{
 "cells": [
  {
   "cell_type": "markdown",
   "metadata": {},
   "source": [
    "# Operadores de comparação em Python\n",
    "\n",
    "Os operadores de comparação são usados em programação para comparar valores e testar condições. Na linguagem de programação Python, existem vários operadores de comparação que podem ser usados para comparar valores. Neste tutorial, você aprenderá como usar cada um deles para escrever condições em seu código.\n",
    "\n",
    "# Operador de igualdade (==)\n",
    "\n",
    "O operador de igualdade (==) é usado para verificar se dois valores são iguais. Ele retorna True se os valores forem iguais e False caso contrário."
   ]
  },
  {
   "cell_type": "code",
   "execution_count": 6,
   "metadata": {},
   "outputs": [
    {
     "name": "stdout",
     "output_type": "stream",
     "text": [
      "True\n"
     ]
    }
   ],
   "source": [
    "a = 5\n",
    "b = 5\n",
    "\n",
    "print( a == b)\n",
    "   \n"
   ]
  },
  {
   "cell_type": "markdown",
   "metadata": {},
   "source": [
    "# Operador de desigualdade (!=)\n",
    "\n",
    "O operador de desigualdade (!=) é usado para verificar se dois valores são diferentes. Ele retorna True se os valores forem diferentes e False caso contrário."
   ]
  },
  {
   "cell_type": "code",
   "execution_count": 7,
   "metadata": {},
   "outputs": [
    {
     "name": "stdout",
     "output_type": "stream",
     "text": [
      "True\n"
     ]
    }
   ],
   "source": [
    "a = 5\n",
    "b = 10\n",
    "\n",
    "print(a != b)\n",
    "   \n"
   ]
  },
  {
   "cell_type": "markdown",
   "metadata": {},
   "source": [
    "# Operadores de comparação numérica\n",
    "\n",
    "Além dos operadores de igualdade e desigualdade, Python também oferece operadores de comparação numérica que são usados para comparar valores numéricos. São eles:\n",
    "\n",
    "* Maior que (>)\n",
    "* Menor que (<)\n",
    "* Maior ou igual a (>=)\n",
    "* Menor ou igual a (<=)"
   ]
  },
  {
   "cell_type": "code",
   "execution_count": 8,
   "metadata": {},
   "outputs": [
    {
     "name": "stdout",
     "output_type": "stream",
     "text": [
      "False\n",
      "True\n",
      "False\n",
      "True\n"
     ]
    }
   ],
   "source": [
    "a = 5\n",
    "b = 10\n",
    "\n",
    "print(a > b)\n",
    "    \n",
    "print(a < b)\n",
    "   \n",
    "print(a >= b)\n",
    "    \n",
    "print(a <= b)\n",
    "    \n"
   ]
  },
  {
   "cell_type": "markdown",
   "metadata": {},
   "source": [
    "# Operadores Lógicos em Python com o comando print()\n",
    "\n",
    "Os operadores lógicos são usados em programação para testar condições e tomar decisões com base em sua avaliação. Na linguagem de programação Python, existem três operadores lógicos principais: AND, OR e NOT. Neste tutorial, você aprenderá como usar cada um deles juntamente com o comando print() para exibir mensagens no console.\n",
    "\n",
    "# Operador AND\n",
    "\n",
    "O operador AND é usado para verificar se duas ou mais condições são verdadeiras. Ele retorna True somente se todas as condições forem verdadeiras. Caso contrário, ele retorna False."
   ]
  },
  {
   "cell_type": "code",
   "execution_count": 1,
   "metadata": {},
   "outputs": [
    {
     "name": "stdout",
     "output_type": "stream",
     "text": [
      "True\n"
     ]
    }
   ],
   "source": [
    "a = 5\n",
    "b = 10\n",
    "c = 15\n",
    "\n",
    "# Verifica se a é menor que b e b é menor que c\n",
    "print( a < b and b < c)"
   ]
  },
  {
   "cell_type": "markdown",
   "metadata": {},
   "source": [
    "# Operador OR\n",
    "\n",
    "O operador OR é usado para verificar se pelo menos uma das condições é verdadeira. Ele retorna True se pelo menos uma das condições for verdadeira. Caso contrário, ele retorna False."
   ]
  },
  {
   "cell_type": "code",
   "execution_count": 2,
   "metadata": {},
   "outputs": [
    {
     "name": "stdout",
     "output_type": "stream",
     "text": [
      "True\n"
     ]
    }
   ],
   "source": [
    "a = 5\n",
    "b = 10\n",
    "c = 15\n",
    "\n",
    "# Verifica se a é maior que b ou b é menor que c\n",
    "print( a > b or b < c)\n",
    "\n"
   ]
  },
  {
   "cell_type": "markdown",
   "metadata": {},
   "source": [
    "# Operador NOT\n",
    "\n",
    "O operador NOT é usado para inverter o valor de uma condição. Se a condição for verdadeira, o operador NOT a tornará falsa. Se a condição for falsa, o operador NOT a tornará verdadeira."
   ]
  },
  {
   "cell_type": "code",
   "execution_count": 5,
   "metadata": {},
   "outputs": [
    {
     "name": "stdout",
     "output_type": "stream",
     "text": [
      "False\n",
      "True\n"
     ]
    }
   ],
   "source": [
    "a = True\n",
    "b = False\n",
    "\n",
    "print(not(a))\n",
    "print(not(b))"
   ]
  }
 ],
 "metadata": {
  "kernelspec": {
   "display_name": "Python 3",
   "language": "python",
   "name": "python3"
  },
  "language_info": {
   "codemirror_mode": {
    "name": "ipython",
    "version": 3
   },
   "file_extension": ".py",
   "mimetype": "text/x-python",
   "name": "python",
   "nbconvert_exporter": "python",
   "pygments_lexer": "ipython3",
   "version": "3.8.3"
  }
 },
 "nbformat": 4,
 "nbformat_minor": 4
}

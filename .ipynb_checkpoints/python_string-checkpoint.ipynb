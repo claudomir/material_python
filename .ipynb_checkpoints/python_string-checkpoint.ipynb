{
 "cells": [
  {
   "cell_type": "markdown",
   "metadata": {},
   "source": [
    "# Tutorial de Operadores de String em Python\n",
    "\n",
    " Python é uma linguagem de programação que oferece diversos operadores para trabalhar com strings. \n",
    "\n",
    " Neste tutorial, você aprenderá alguns dos operadores de string mais comuns em Python.\n",
    "\n",
    "# Operador de Concatenação (+)\n",
    "\n",
    " O operador de concatenação (+) é usado para unir duas ou mais strings em uma única string."
   ]
  },
  {
   "cell_type": "code",
   "execution_count": 1,
   "metadata": {},
   "outputs": [
    {
     "name": "stdout",
     "output_type": "stream",
     "text": [
      "Maria Silva\n"
     ]
    }
   ],
   "source": [
    "nome = \"Maria\"\n",
    "sobrenome = \"Silva\"\n",
    "nome_completo = nome + \" \" + sobrenome\n",
    "print(nome_completo)\n"
   ]
  },
  {
   "cell_type": "markdown",
   "metadata": {},
   "source": [
    "# Operador de Repetição (*)\n",
    " O operador de repetição (*) é usado para criar uma nova string que consiste em várias cópias da string original."
   ]
  },
  {
   "cell_type": "code",
   "execution_count": 2,
   "metadata": {},
   "outputs": [
    {
     "name": "stdout",
     "output_type": "stream",
     "text": [
      "Olá!Olá!Olá!\n"
     ]
    }
   ],
   "source": [
    "texto = \"Olá!\"\n",
    "texto_repetido = texto * 3\n",
    "print(texto_repetido)"
   ]
  },
  {
   "cell_type": "markdown",
   "metadata": {},
   "source": [
    "# Operador de Indexação ([])\n",
    " O operador de indexação ([ ]) é usado para acessar um caractere específico de uma string. Os índices em Python começam em 0."
   ]
  },
  {
   "cell_type": "code",
   "execution_count": 3,
   "metadata": {},
   "outputs": [
    {
     "name": "stdout",
     "output_type": "stream",
     "text": [
      "O\n",
      "l\n",
      "á\n"
     ]
    }
   ],
   "source": [
    "texto = \"Olá!\"\n",
    "print(texto[0])\n",
    "print(texto[1])\n",
    "print(texto[2])"
   ]
  },
  {
   "cell_type": "markdown",
   "metadata": {},
   "source": [
    "# Operador de Fatiamento ([: ])\n",
    "# O operador de fatiamento ([ : ]) é usado para obter uma parte de uma string."
   ]
  },
  {
   "cell_type": "code",
   "execution_count": null,
   "metadata": {},
   "outputs": [],
   "source": [
    "texto = \"Olá, mundo!\"\n",
    "print(texto[0:3])\n",
    "print(texto[5:])"
   ]
  },
  {
   "cell_type": "markdown",
   "metadata": {},
   "source": [
    "# Operador de Comprimento (len)\n",
    " O operador de comprimento (len) é usado para obter o número de caracteres em uma string."
   ]
  },
  {
   "cell_type": "code",
   "execution_count": 4,
   "metadata": {},
   "outputs": [
    {
     "name": "stdout",
     "output_type": "stream",
     "text": [
      "4\n"
     ]
    }
   ],
   "source": [
    "texto = \"Olá!\"\n",
    "print(len(texto))\n"
   ]
  },
  {
   "cell_type": "markdown",
   "metadata": {},
   "source": [
    "# Operador de Verificação (in)\n",
    " O operador de verificação (in) é usado para verificar se uma string está contida em outra."
   ]
  },
  {
   "cell_type": "code",
   "execution_count": 5,
   "metadata": {},
   "outputs": [
    {
     "name": "stdout",
     "output_type": "stream",
     "text": [
      "True\n",
      "False\n"
     ]
    }
   ],
   "source": [
    "texto = \"Olá, mundo!\"\n",
    "print(\"mundo\" in texto)\n",
    "print(\"Terra\" in texto)"
   ]
  }
 ],
 "metadata": {
  "kernelspec": {
   "display_name": "Python 3",
   "language": "python",
   "name": "python3"
  },
  "language_info": {
   "codemirror_mode": {
    "name": "ipython",
    "version": 3
   },
   "file_extension": ".py",
   "mimetype": "text/x-python",
   "name": "python",
   "nbconvert_exporter": "python",
   "pygments_lexer": "ipython3",
   "version": "3.8.3"
  }
 },
 "nbformat": 4,
 "nbformat_minor": 4
}

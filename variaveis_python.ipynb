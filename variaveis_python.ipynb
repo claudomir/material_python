{
 "cells": [
  {
   "cell_type": "markdown",
   "metadata": {},
   "source": [
    "# As variáveis em Python\n",
    "\n",
    "As variáveis em Python são usadas para armazenar dados e informações em memória. Elas têm um nome que serve como referência para o valor armazenado. Para criar uma variável em Python, basta escolher um nome e atribuir um valor usando o operador \"=\" (sinal de igual).\n",
    "\n",
    "Existem vários tipos de variáveis em Python. Aqui estão alguns dos mais comuns:\n",
    "\n",
    "* **Inteiros** (int): são números inteiros sem casas decimais. Exemplo: 5, -3, 100."
   ]
  },
  {
   "cell_type": "code",
   "execution_count": 2,
   "metadata": {},
   "outputs": [],
   "source": [
    "idade = 30\n"
   ]
  },
  {
   "cell_type": "markdown",
   "metadata": {},
   "source": [
    "* **Ponto flutuante** (float): são números reais, que podem ter casas decimais. Exemplo: 3.14, -0.5, 1.0."
   ]
  },
  {
   "cell_type": "code",
   "execution_count": 3,
   "metadata": {},
   "outputs": [],
   "source": [
    "preco = 12.99\n"
   ]
  },
  {
   "cell_type": "markdown",
   "metadata": {},
   "source": [
    "* **Booleanos** (bool): são valores que representam verdadeiro (True) ou falso (False)."
   ]
  },
  {
   "cell_type": "code",
   "execution_count": 4,
   "metadata": {},
   "outputs": [],
   "source": [
    "temperatura = 25\n",
    "chovendo = False\n"
   ]
  },
  {
   "cell_type": "markdown",
   "metadata": {},
   "source": [
    "* **Strings** (str): são sequências de caracteres, usadas para representar texto."
   ]
  },
  {
   "cell_type": "code",
   "execution_count": 5,
   "metadata": {},
   "outputs": [],
   "source": [
    "nome = \"Maria\"\n"
   ]
  },
  {
   "cell_type": "markdown",
   "metadata": {},
   "source": [
    "Além desses tipos básicos, existem outros tipos mais avançados em Python, como listas, dicionários, tuplas, conjuntos e objetos.\n",
    "\n",
    "Ao criar uma variável em Python, o interpretador automaticamente determina seu tipo com base no valor atribuído a ela. Você também pode descobrir o tipo de uma variável usando a função \"type\":"
   ]
  },
  {
   "cell_type": "code",
   "execution_count": 6,
   "metadata": {},
   "outputs": [
    {
     "name": "stdout",
     "output_type": "stream",
     "text": [
      "<class 'int'>\n",
      "<class 'float'>\n",
      "<class 'bool'>\n",
      "<class 'str'>\n"
     ]
    }
   ],
   "source": [
    "print(type(idade)) # int\n",
    "print(type(preco)) # float\n",
    "print(type(chovendo)) # bool\n",
    "print(type(nome)) # str\n"
   ]
  },
  {
   "cell_type": "markdown",
   "metadata": {},
   "source": [
    "Você também pode converter variáveis de um tipo para outro usando funções específicas. Por exemplo, para converter uma string em um número inteiro, você pode usar a função \"int\":"
   ]
  },
  {
   "cell_type": "code",
   "execution_count": 7,
   "metadata": {},
   "outputs": [
    {
     "name": "stdout",
     "output_type": "stream",
     "text": [
      "30\n"
     ]
    }
   ],
   "source": [
    "idade = \"30\"\n",
    "idade_int = int(idade)\n",
    "print(idade_int) # 30\n"
   ]
  },
  {
   "cell_type": "markdown",
   "metadata": {},
   "source": [
    "E para converter um número em uma string, você pode usar a função \"str\":"
   ]
  },
  {
   "cell_type": "code",
   "execution_count": 8,
   "metadata": {},
   "outputs": [
    {
     "name": "stdout",
     "output_type": "stream",
     "text": [
      "12.99\n"
     ]
    }
   ],
   "source": [
    "preco = 12.99\n",
    "preco_str = str(preco)\n",
    "print(preco_str) # \"12.99\"\n"
   ]
  },
  {
   "cell_type": "markdown",
   "metadata": {},
   "source": [
    "Também é possível criar várias variáveis ao mesmo tempo, atribuindo vários valores separados por vírgulas:"
   ]
  },
  {
   "cell_type": "code",
   "execution_count": 9,
   "metadata": {},
   "outputs": [
    {
     "name": "stdout",
     "output_type": "stream",
     "text": [
      "1\n",
      "2\n",
      "3\n"
     ]
    }
   ],
   "source": [
    "x, y, z = 1, 2, 3\n",
    "print(x)\n",
    "print(y)\n",
    "print(z)\n"
   ]
  },
  {
   "cell_type": "markdown",
   "metadata": {},
   "source": [
    "Isso criará três variáveis: \"x\", \"y\" e \"z\" com os valores 1, 2 e 3, respectivamente, e imprimirá cada valor no console.\n",
    "\n",
    "Por fim, vale lembrar que existem algumas regras ao escolher nomes de variáveis em Python:\n",
    "\n",
    "* O nome da variável deve começar com uma letra ou sublinhado (_).\n",
    "* O nome da variável pode conter letras, números e sublinhados (_).\n",
    "* O nome da variável não pode começar com um número.\n",
    "* O nome da variável não pode conter espaços.\n",
    "* O nome da variável não pode ser uma palavra reservada em Python, como \"print\" ou \"if\"."
   ]
  },
  {
   "cell_type": "markdown",
   "metadata": {},
   "source": [
    "# Exercício"
   ]
  },
  {
   "cell_type": "markdown",
   "metadata": {},
   "source": [
    "1. Crie uma variável \"idade\" com o valor 25 e imprima seu valor na tela.\n",
    "2. Crie uma variável \"nome\" com o valor \"João\" e uma variável \"sobrenome\" com o valor \"Silva\", e imprima na tela a mensagem \"Olá, João Silva!\".\n",
    "3. Crie uma variável \"preco\" com o valor 10.99, e uma variável \"quantidade\" com o valor 3. Calcule o valor total da compra (preco x quantidade) e imprima na tela.\n",
    "4. Crie uma variável \"nota1\" com o valor 7.5, e uma variável \"nota2\" com o valor 8.2. Calcule a média das duas notas e imprima na tela."
   ]
  },
  {
   "cell_type": "code",
   "execution_count": null,
   "metadata": {},
   "outputs": [],
   "source": []
  }
 ],
 "metadata": {
  "kernelspec": {
   "display_name": "Python 3",
   "language": "python",
   "name": "python3"
  },
  "language_info": {
   "codemirror_mode": {
    "name": "ipython",
    "version": 3
   },
   "file_extension": ".py",
   "mimetype": "text/x-python",
   "name": "python",
   "nbconvert_exporter": "python",
   "pygments_lexer": "ipython3",
   "version": "3.8.3"
  }
 },
 "nbformat": 4,
 "nbformat_minor": 4
}
